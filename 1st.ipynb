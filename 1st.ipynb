{
 "cells": [
  {
   "cell_type": "code",
   "execution_count": 1,
   "id": "6e4707e7",
   "metadata": {},
   "outputs": [],
   "source": [
    "import numpy as np\n",
    "import pandas as pd\n",
    "\n",
    "import seaborn as sns\n",
    "import matplotlib.pyplot as plt\n",
    "%matplotlib inline"
   ]
  },
  {
   "cell_type": "code",
   "execution_count": 2,
   "id": "46246422",
   "metadata": {},
   "outputs": [],
   "source": [
    "import warnings\n",
    "warnings.filterwarnings('ignore')"
   ]
  },
  {
   "cell_type": "code",
   "execution_count": 3,
   "id": "9e18513f",
   "metadata": {},
   "outputs": [],
   "source": [
    "df=pd.read_csv(\"PROJECT 2.csv\")"
   ]
  },
  {
   "cell_type": "code",
   "execution_count": 4,
   "id": "767ab20a",
   "metadata": {},
   "outputs": [
    {
     "data": {
      "text/html": [
       "<div>\n",
       "<style scoped>\n",
       "    .dataframe tbody tr th:only-of-type {\n",
       "        vertical-align: middle;\n",
       "    }\n",
       "\n",
       "    .dataframe tbody tr th {\n",
       "        vertical-align: top;\n",
       "    }\n",
       "\n",
       "    .dataframe thead th {\n",
       "        text-align: right;\n",
       "    }\n",
       "</style>\n",
       "<table border=\"1\" class=\"dataframe\">\n",
       "  <thead>\n",
       "    <tr style=\"text-align: right;\">\n",
       "      <th></th>\n",
       "      <th>Trip_ID</th>\n",
       "      <th>Trip_Distance</th>\n",
       "      <th>Type_of_Cab</th>\n",
       "      <th>Customer_Since_Months</th>\n",
       "      <th>Life_Style_Index</th>\n",
       "      <th>Confidence_Life_Style_Index</th>\n",
       "      <th>Destination_Type</th>\n",
       "      <th>Customer_Rating</th>\n",
       "      <th>Cancellation_Last_1Month</th>\n",
       "      <th>Var1</th>\n",
       "      <th>Var2</th>\n",
       "      <th>Var3</th>\n",
       "      <th>Gender</th>\n",
       "      <th>Surge_Pricing_Type</th>\n",
       "    </tr>\n",
       "  </thead>\n",
       "  <tbody>\n",
       "    <tr>\n",
       "      <th>0</th>\n",
       "      <td>T0005689460</td>\n",
       "      <td>6.77</td>\n",
       "      <td>B</td>\n",
       "      <td>1.0</td>\n",
       "      <td>2.42769</td>\n",
       "      <td>A</td>\n",
       "      <td>A</td>\n",
       "      <td>3.90500</td>\n",
       "      <td>0</td>\n",
       "      <td>40.0</td>\n",
       "      <td>46</td>\n",
       "      <td>60</td>\n",
       "      <td>Female</td>\n",
       "      <td>2</td>\n",
       "    </tr>\n",
       "    <tr>\n",
       "      <th>1</th>\n",
       "      <td>T0005689461</td>\n",
       "      <td>29.47</td>\n",
       "      <td>B</td>\n",
       "      <td>10.0</td>\n",
       "      <td>2.78245</td>\n",
       "      <td>B</td>\n",
       "      <td>A</td>\n",
       "      <td>3.45000</td>\n",
       "      <td>0</td>\n",
       "      <td>38.0</td>\n",
       "      <td>56</td>\n",
       "      <td>78</td>\n",
       "      <td>Male</td>\n",
       "      <td>2</td>\n",
       "    </tr>\n",
       "    <tr>\n",
       "      <th>2</th>\n",
       "      <td>T0005689464</td>\n",
       "      <td>41.58</td>\n",
       "      <td>NaN</td>\n",
       "      <td>10.0</td>\n",
       "      <td>NaN</td>\n",
       "      <td>NaN</td>\n",
       "      <td>E</td>\n",
       "      <td>3.50125</td>\n",
       "      <td>2</td>\n",
       "      <td>NaN</td>\n",
       "      <td>56</td>\n",
       "      <td>77</td>\n",
       "      <td>Male</td>\n",
       "      <td>2</td>\n",
       "    </tr>\n",
       "    <tr>\n",
       "      <th>3</th>\n",
       "      <td>T0005689465</td>\n",
       "      <td>61.56</td>\n",
       "      <td>C</td>\n",
       "      <td>10.0</td>\n",
       "      <td>NaN</td>\n",
       "      <td>NaN</td>\n",
       "      <td>A</td>\n",
       "      <td>3.45375</td>\n",
       "      <td>0</td>\n",
       "      <td>NaN</td>\n",
       "      <td>52</td>\n",
       "      <td>74</td>\n",
       "      <td>Male</td>\n",
       "      <td>3</td>\n",
       "    </tr>\n",
       "    <tr>\n",
       "      <th>4</th>\n",
       "      <td>T0005689467</td>\n",
       "      <td>54.95</td>\n",
       "      <td>C</td>\n",
       "      <td>10.0</td>\n",
       "      <td>3.03453</td>\n",
       "      <td>B</td>\n",
       "      <td>A</td>\n",
       "      <td>3.40250</td>\n",
       "      <td>4</td>\n",
       "      <td>51.0</td>\n",
       "      <td>49</td>\n",
       "      <td>102</td>\n",
       "      <td>Male</td>\n",
       "      <td>2</td>\n",
       "    </tr>\n",
       "  </tbody>\n",
       "</table>\n",
       "</div>"
      ],
      "text/plain": [
       "       Trip_ID  Trip_Distance Type_of_Cab  Customer_Since_Months  \\\n",
       "0  T0005689460           6.77           B                    1.0   \n",
       "1  T0005689461          29.47           B                   10.0   \n",
       "2  T0005689464          41.58         NaN                   10.0   \n",
       "3  T0005689465          61.56           C                   10.0   \n",
       "4  T0005689467          54.95           C                   10.0   \n",
       "\n",
       "   Life_Style_Index Confidence_Life_Style_Index Destination_Type  \\\n",
       "0           2.42769                           A                A   \n",
       "1           2.78245                           B                A   \n",
       "2               NaN                         NaN                E   \n",
       "3               NaN                         NaN                A   \n",
       "4           3.03453                           B                A   \n",
       "\n",
       "   Customer_Rating  Cancellation_Last_1Month  Var1  Var2  Var3  Gender  \\\n",
       "0          3.90500                         0  40.0    46    60  Female   \n",
       "1          3.45000                         0  38.0    56    78    Male   \n",
       "2          3.50125                         2   NaN    56    77    Male   \n",
       "3          3.45375                         0   NaN    52    74    Male   \n",
       "4          3.40250                         4  51.0    49   102    Male   \n",
       "\n",
       "   Surge_Pricing_Type  \n",
       "0                   2  \n",
       "1                   2  \n",
       "2                   2  \n",
       "3                   3  \n",
       "4                   2  "
      ]
     },
     "execution_count": 4,
     "metadata": {},
     "output_type": "execute_result"
    }
   ],
   "source": [
    "df.head()"
   ]
  },
  {
   "cell_type": "code",
   "execution_count": 5,
   "id": "a12e3097",
   "metadata": {},
   "outputs": [
    {
     "data": {
      "text/plain": [
       "(131662, 14)"
      ]
     },
     "execution_count": 5,
     "metadata": {},
     "output_type": "execute_result"
    }
   ],
   "source": [
    "# checking the shape\n",
    "df.shape"
   ]
  },
  {
   "cell_type": "code",
   "execution_count": 6,
   "id": "b68f21ba",
   "metadata": {},
   "outputs": [
    {
     "name": "stdout",
     "output_type": "stream",
     "text": [
      "<class 'pandas.core.frame.DataFrame'>\n",
      "RangeIndex: 131662 entries, 0 to 131661\n",
      "Data columns (total 14 columns):\n",
      " #   Column                       Non-Null Count   Dtype  \n",
      "---  ------                       --------------   -----  \n",
      " 0   Trip_ID                      131662 non-null  object \n",
      " 1   Trip_Distance                131662 non-null  float64\n",
      " 2   Type_of_Cab                  111452 non-null  object \n",
      " 3   Customer_Since_Months        125742 non-null  float64\n",
      " 4   Life_Style_Index             111469 non-null  float64\n",
      " 5   Confidence_Life_Style_Index  111469 non-null  object \n",
      " 6   Destination_Type             131662 non-null  object \n",
      " 7   Customer_Rating              131662 non-null  float64\n",
      " 8   Cancellation_Last_1Month     131662 non-null  int64  \n",
      " 9   Var1                         60632 non-null   float64\n",
      " 10  Var2                         131662 non-null  int64  \n",
      " 11  Var3                         131662 non-null  int64  \n",
      " 12  Gender                       131662 non-null  object \n",
      " 13  Surge_Pricing_Type           131662 non-null  int64  \n",
      "dtypes: float64(5), int64(4), object(5)\n",
      "memory usage: 14.1+ MB\n"
     ]
    }
   ],
   "source": [
    "# basic info\n",
    "\n",
    "df.info()"
   ]
  },
  {
   "cell_type": "code",
   "execution_count": 7,
   "id": "02a7a2b8",
   "metadata": {},
   "outputs": [
    {
     "data": {
      "image/png": "[encoded data removed]",
      "text/plain": [
       "<Figure size 640x480 with 1 Axes>"
      ]
     },
     "metadata": {},
     "output_type": "display_data"
    }
   ],
   "source": [
    "ax = sns.heatmap(df.isnull(), yticklabels=False, cbar=False)"
   ]
  },
  {
   "cell_type": "code",
   "execution_count": 8,
   "id": "488e688e",
   "metadata": {},
   "outputs": [
    {
     "data": {
      "text/plain": [
       "Index(['Trip_ID', 'Type_of_Cab', 'Confidence_Life_Style_Index',\n",
       "       'Destination_Type', 'Gender'],\n",
       "      dtype='object')"
      ]
     },
     "execution_count": 8,
     "metadata": {},
     "output_type": "execute_result"
    }
   ],
   "source": [
    "df.select_dtypes(include= 'object').columns"
   ]
  },
  {
   "cell_type": "code",
   "execution_count": 9,
   "id": "8e72a1d2",
   "metadata": {},
   "outputs": [
    {
     "data": {
      "text/plain": [
       "Trip_ID                            0\n",
       "Trip_Distance                      0\n",
       "Type_of_Cab                    20210\n",
       "Customer_Since_Months           5920\n",
       "Life_Style_Index               20193\n",
       "Confidence_Life_Style_Index    20193\n",
       "Destination_Type                   0\n",
       "Customer_Rating                    0\n",
       "Cancellation_Last_1Month           0\n",
       "Var1                           71030\n",
       "Var2                               0\n",
       "Var3                               0\n",
       "Gender                             0\n",
       "Surge_Pricing_Type                 0\n",
       "dtype: int64"
      ]
     },
     "execution_count": 9,
     "metadata": {},
     "output_type": "execute_result"
    }
   ],
   "source": [
    "df.isnull().sum()"
   ]
  },
  {
   "cell_type": "code",
   "execution_count": 10,
   "id": "042deab6",
   "metadata": {},
   "outputs": [
    {
     "data": {
      "text/plain": [
       "Var1                           53.95\n",
       "Type_of_Cab                    15.35\n",
       "Life_Style_Index               15.34\n",
       "Confidence_Life_Style_Index    15.34\n",
       "Customer_Since_Months           4.50\n",
       "Trip_ID                         0.00\n",
       "Trip_Distance                   0.00\n",
       "Destination_Type                0.00\n",
       "Customer_Rating                 0.00\n",
       "Cancellation_Last_1Month        0.00\n",
       "Var2                            0.00\n",
       "Var3                            0.00\n",
       "Gender                          0.00\n",
       "Surge_Pricing_Type              0.00\n",
       "dtype: float64"
      ]
     },
     "execution_count": 10,
     "metadata": {},
     "output_type": "execute_result"
    }
   ],
   "source": [
    "round(df.isnull().mean().sort_values(ascending=False)*100, 2)"
   ]
  },
  {
   "cell_type": "markdown",
   "id": "112e77e6",
   "metadata": {},
   "source": [
    "## Treating the Null values\n",
    "\n"
   ]
  },
  {
   "cell_type": "markdown",
   "id": "1493e675",
   "metadata": {},
   "source": [
    "### Type_of_Cab"
   ]
  },
  {
   "cell_type": "code",
   "execution_count": 11,
   "id": "c3abcdcb",
   "metadata": {},
   "outputs": [
    {
     "data": {
      "text/plain": [
       "Type_of_Cab\n",
       "B      31136\n",
       "C      28122\n",
       "A      21569\n",
       "NaN    20210\n",
       "D      18991\n",
       "E      11634\n",
       "Name: count, dtype: int64"
      ]
     },
     "execution_count": 11,
     "metadata": {},
     "output_type": "execute_result"
    }
   ],
   "source": [
    "# checking value counts\n",
    "df.Type_of_Cab.value_counts(dropna=False)"
   ]
  },
  {
   "cell_type": "code",
   "execution_count": 12,
   "id": "7086ced9",
   "metadata": {},
   "outputs": [
    {
     "data": {
      "text/plain": [
       "Type_of_Cab\n",
       "B      0.236484\n",
       "C      0.213592\n",
       "A      0.163821\n",
       "NaN    0.153499\n",
       "D      0.144241\n",
       "E      0.088363\n",
       "Name: proportion, dtype: float64"
      ]
     },
     "execution_count": 12,
     "metadata": {},
     "output_type": "execute_result"
    }
   ],
   "source": [
    "# %age wise\n",
    "df.Type_of_Cab.value_counts(normalize=True, dropna=False)"
   ]
  },
  {
   "cell_type": "code",
   "execution_count": 13,
   "id": "04b772db",
   "metadata": {},
   "outputs": [
    {
     "data": {
      "text/plain": [
       "'B'"
      ]
     },
     "execution_count": 13,
     "metadata": {},
     "output_type": "execute_result"
    }
   ],
   "source": [
    "df.Type_of_Cab.mode()[0]"
   ]
  },
  {
   "cell_type": "code",
   "execution_count": 14,
   "id": "54dfcdd6",
   "metadata": {},
   "outputs": [],
   "source": [
    "# Replacing NaN with B (most frequent)\n",
    "df.Type_of_Cab = df.Type_of_Cab.fillna('B')"
   ]
  },
  {
   "cell_type": "code",
   "execution_count": 15,
   "id": "75f9322c",
   "metadata": {},
   "outputs": [
    {
     "data": {
      "text/plain": [
       "Type_of_Cab\n",
       "B    51346\n",
       "C    28122\n",
       "A    21569\n",
       "D    18991\n",
       "E    11634\n",
       "Name: count, dtype: int64"
      ]
     },
     "execution_count": 15,
     "metadata": {},
     "output_type": "execute_result"
    }
   ],
   "source": [
    "# sanity check \n",
    "df.Type_of_Cab.value_counts(dropna=False)"
   ]
  },
  {
   "cell_type": "code",
   "execution_count": 16,
   "id": "64d73afe",
   "metadata": {},
   "outputs": [
    {
     "data": {
      "text/plain": [
       "0"
      ]
     },
     "execution_count": 16,
     "metadata": {},
     "output_type": "execute_result"
    }
   ],
   "source": [
    "df.Type_of_Cab.isnull().sum()"
   ]
  },
  {
   "cell_type": "markdown",
   "id": "533645cd",
   "metadata": {},
   "source": [
    "### Customer_Since_Months"
   ]
  },
  {
   "cell_type": "code",
   "execution_count": 17,
   "id": "35fd9858",
   "metadata": {},
   "outputs": [
    {
     "data": {
      "text/plain": [
       "dtype('float64')"
      ]
     },
     "execution_count": 17,
     "metadata": {},
     "output_type": "execute_result"
    }
   ],
   "source": [
    "# checking type\n",
    "df.Customer_Since_Months.dtype"
   ]
  },
  {
   "cell_type": "code",
   "execution_count": 18,
   "id": "24a3b851",
   "metadata": {},
   "outputs": [
    {
     "data": {
      "text/plain": [
       "Customer_Since_Months\n",
       "10.0    42680\n",
       "2.0     11621\n",
       "3.0     10351\n",
       "0.0     10169\n",
       "5.0      8641\n",
       "1.0      8297\n",
       "4.0      7726\n",
       "7.0      7407\n",
       "6.0      7375\n",
       "8.0      6328\n",
       "9.0      5147\n",
       "Name: count, dtype: int64"
      ]
     },
     "execution_count": 18,
     "metadata": {},
     "output_type": "execute_result"
    }
   ],
   "source": [
    "# checking value counts\n",
    "df.Customer_Since_Months.value_counts()"
   ]
  },
  {
   "cell_type": "code",
   "execution_count": 19,
   "id": "e312aada",
   "metadata": {},
   "outputs": [
    {
     "data": {
      "text/plain": [
       "count    125742.000000\n",
       "mean          6.016661\n",
       "std           3.626887\n",
       "min           0.000000\n",
       "25%           3.000000\n",
       "50%           6.000000\n",
       "75%          10.000000\n",
       "max          10.000000\n",
       "Name: Customer_Since_Months, dtype: float64"
      ]
     },
     "execution_count": 19,
     "metadata": {},
     "output_type": "execute_result"
    }
   ],
   "source": [
    "# checkimg the range of values\n",
    "df.Customer_Since_Months.describe()"
   ]
  },
  {
   "cell_type": "code",
   "execution_count": 20,
   "id": "f71e8dd3",
   "metadata": {},
   "outputs": [
    {
     "data": {
      "image/png": "[encoded data removed]",
      "text/plain": [
       "<Figure size 640x480 with 1 Axes>"
      ]
     },
     "metadata": {},
     "output_type": "display_data"
    }
   ],
   "source": [
    "sns.distplot(df.Customer_Since_Months, kde=False)\n",
    "plt.show()"
   ]
  },
  {
   "cell_type": "code",
   "execution_count": 21,
   "id": "d3c3d66a",
   "metadata": {},
   "outputs": [
    {
     "data": {
      "image/png": "[encoded data removed]",
      "text/plain": [
       "<Figure size 640x480 with 1 Axes>"
      ]
     },
     "metadata": {},
     "output_type": "display_data"
    }
   ],
   "source": [
    "ax = sns.boxplot(df.Customer_Since_Months)"
   ]
  },
  {
   "cell_type": "code",
   "execution_count": 22,
   "id": "cfd4db02",
   "metadata": {},
   "outputs": [
    {
     "name": "stdout",
     "output_type": "stream",
     "text": [
      "6.016661099712109\n",
      "6.0\n",
      "10.0\n"
     ]
    }
   ],
   "source": [
    "print(df.Customer_Since_Months.mean())\n",
    "print(df.Customer_Since_Months.median())\n",
    "print(df.Customer_Since_Months.mode()[0])"
   ]
  },
  {
   "cell_type": "code",
   "execution_count": 23,
   "id": "bbd3bc97",
   "metadata": {},
   "outputs": [],
   "source": [
    "# filling the missing values with median\n",
    "\n",
    "df.Customer_Since_Months = df.Customer_Since_Months.fillna(df.Customer_Since_Months.median())"
   ]
  },
  {
   "cell_type": "code",
   "execution_count": 24,
   "id": "a55b967b",
   "metadata": {},
   "outputs": [
    {
     "data": {
      "text/plain": [
       "0"
      ]
     },
     "execution_count": 24,
     "metadata": {},
     "output_type": "execute_result"
    }
   ],
   "source": [
    "# sanity check\n",
    "df.Customer_Since_Months.isnull().sum()"
   ]
  },
  {
   "cell_type": "markdown",
   "id": "6f8a8082",
   "metadata": {},
   "source": [
    "### Life_Style_Index"
   ]
  },
  {
   "cell_type": "code",
   "execution_count": 25,
   "id": "07385bf4",
   "metadata": {},
   "outputs": [
    {
     "data": {
      "text/plain": [
       "dtype('float64')"
      ]
     },
     "execution_count": 25,
     "metadata": {},
     "output_type": "execute_result"
    }
   ],
   "source": [
    "df.Life_Style_Index.dtype"
   ]
  },
  {
   "cell_type": "code",
   "execution_count": 26,
   "id": "3df6728b",
   "metadata": {},
   "outputs": [
    {
     "data": {
      "text/plain": [
       "count    111469.000000\n",
       "mean          2.802064\n",
       "std           0.225796\n",
       "min           1.596380\n",
       "25%           2.654730\n",
       "50%           2.798050\n",
       "75%           2.946780\n",
       "max           4.875110\n",
       "Name: Life_Style_Index, dtype: float64"
      ]
     },
     "execution_count": 26,
     "metadata": {},
     "output_type": "execute_result"
    }
   ],
   "source": [
    "df.Life_Style_Index.describe()"
   ]
  },
  {
   "cell_type": "code",
   "execution_count": 27,
   "id": "571fd84a",
   "metadata": {},
   "outputs": [
    {
     "data": {
      "text/plain": [
       "<Axes: xlabel='Life_Style_Index'>"
      ]
     },
     "execution_count": 27,
     "metadata": {},
     "output_type": "execute_result"
    },
    {
     "data": {
      "image/png": "[encoded data removed]",
      "text/plain": [
       "<Figure size 640x480 with 1 Axes>"
      ]
     },
     "metadata": {},
     "output_type": "display_data"
    }
   ],
   "source": [
    "# checking the distribution of values\n",
    "sns.distplot(df.Life_Style_Index, kde=False, bins=40)"
   ]
  },
  {
   "cell_type": "code",
   "execution_count": 28,
   "id": "142b51a5",
   "metadata": {},
   "outputs": [
    {
     "data": {
      "image/png": "[encoded data removed]",
      "text/plain": [
       "<Figure size 640x480 with 1 Axes>"
      ]
     },
     "metadata": {},
     "output_type": "display_data"
    }
   ],
   "source": [
    "# boxplot\n",
    "ax = sns.boxplot(df.Life_Style_Index)"
   ]
  },
  {
   "cell_type": "code",
   "execution_count": 29,
   "id": "bf818e88",
   "metadata": {},
   "outputs": [
    {
     "data": {
      "text/plain": [
       "count    111469.000000\n",
       "mean          2.802064\n",
       "std           0.225796\n",
       "min           1.596380\n",
       "5%            2.445944\n",
       "25%           2.654730\n",
       "50%           2.798050\n",
       "75%           2.946780\n",
       "90%           3.080032\n",
       "95%           3.174166\n",
       "99%           3.381022\n",
       "max           4.875110\n",
       "Name: Life_Style_Index, dtype: float64"
      ]
     },
     "execution_count": 29,
     "metadata": {},
     "output_type": "execute_result"
    }
   ],
   "source": [
    "df.Life_Style_Index.describe(percentiles=[0.05, .25, .50, .75, .90, .95, .99])"
   ]
  },
  {
   "cell_type": "code",
   "execution_count": 30,
   "id": "3aad87dd",
   "metadata": {},
   "outputs": [
    {
     "data": {
      "text/plain": [
       "0.05    2.445944\n",
       "0.25    2.654730\n",
       "0.50    2.798050\n",
       "0.75    2.946780\n",
       "0.90    3.080032\n",
       "0.95    3.174166\n",
       "0.99    3.381022\n",
       "Name: Life_Style_Index, dtype: float64"
      ]
     },
     "execution_count": 30,
     "metadata": {},
     "output_type": "execute_result"
    }
   ],
   "source": [
    "df.Life_Style_Index.quantile([0.05, .25, .50, .75, .90, .95, .99])"
   ]
  },
  {
   "cell_type": "code",
   "execution_count": 31,
   "id": "b060b9e7",
   "metadata": {},
   "outputs": [
    {
     "data": {
      "text/plain": [
       "3.3840000000000003"
      ]
     },
     "execution_count": 31,
     "metadata": {},
     "output_type": "execute_result"
    }
   ],
   "source": [
    "# upper fence limit (uf)\n",
    "uf = 2.946 + 1.5*(2.946-2.654)\n",
    "uf"
   ]
  },
  {
   "cell_type": "code",
   "execution_count": 32,
   "id": "1e5659f5",
   "metadata": {},
   "outputs": [
    {
     "data": {
      "text/plain": [
       "2.2159999999999993"
      ]
     },
     "execution_count": 32,
     "metadata": {},
     "output_type": "execute_result"
    }
   ],
   "source": [
    "# lower fence limit (lf)\n",
    "lf = 2.654 - 1.5*(2.946-2.654)\n",
    "lf"
   ]
  },
  {
   "cell_type": "code",
   "execution_count": 33,
   "id": "ebcff70d",
   "metadata": {},
   "outputs": [],
   "source": [
    "# imputing the missing values\n",
    "df.Life_Style_Index = df.Life_Style_Index.fillna(4)"
   ]
  },
  {
   "cell_type": "code",
   "execution_count": 34,
   "id": "66d2dc9c",
   "metadata": {},
   "outputs": [
    {
     "data": {
      "text/plain": [
       "0"
      ]
     },
     "execution_count": 34,
     "metadata": {},
     "output_type": "execute_result"
    }
   ],
   "source": [
    "# sanity check for missing values\n",
    "df.Life_Style_Index.isnull().sum()"
   ]
  },
  {
   "cell_type": "markdown",
   "id": "53fa69af",
   "metadata": {},
   "source": [
    "### Confidence_Life_Style_Index"
   ]
  },
  {
   "cell_type": "code",
   "execution_count": 35,
   "id": "ff9583fa",
   "metadata": {},
   "outputs": [
    {
     "data": {
      "text/plain": [
       "dtype('O')"
      ]
     },
     "execution_count": 35,
     "metadata": {},
     "output_type": "execute_result"
    }
   ],
   "source": [
    "# checking dtype\n",
    "df.Confidence_Life_Style_Index.dtype"
   ]
  },
  {
   "cell_type": "code",
   "execution_count": 36,
   "id": "c18f5421",
   "metadata": {},
   "outputs": [
    {
     "data": {
      "text/plain": [
       "Confidence_Life_Style_Index\n",
       "B    40355\n",
       "C    35967\n",
       "A    35147\n",
       "Name: count, dtype: int64"
      ]
     },
     "execution_count": 36,
     "metadata": {},
     "output_type": "execute_result"
    }
   ],
   "source": [
    "# checking value counts\n",
    "df.Confidence_Life_Style_Index.value_counts()"
   ]
  },
  {
   "cell_type": "code",
   "execution_count": 37,
   "id": "1c7fefe4",
   "metadata": {},
   "outputs": [
    {
     "data": {
      "text/plain": [
       "'B'"
      ]
     },
     "execution_count": 37,
     "metadata": {},
     "output_type": "execute_result"
    }
   ],
   "source": [
    "# checking mode\n",
    "df.Confidence_Life_Style_Index.mode()[0]"
   ]
  },
  {
   "cell_type": "code",
   "execution_count": 38,
   "id": "91e09391",
   "metadata": {},
   "outputs": [],
   "source": [
    "# imputing missing values with most frequent value i.e. 'B'\n",
    "df.Confidence_Life_Style_Index = df.Confidence_Life_Style_Index.fillna('B')"
   ]
  },
  {
   "cell_type": "code",
   "execution_count": 39,
   "id": "5729df37",
   "metadata": {},
   "outputs": [
    {
     "data": {
      "text/plain": [
       "Confidence_Life_Style_Index\n",
       "B    60548\n",
       "C    35967\n",
       "A    35147\n",
       "Name: count, dtype: int64"
      ]
     },
     "execution_count": 39,
     "metadata": {},
     "output_type": "execute_result"
    }
   ],
   "source": [
    "df.Confidence_Life_Style_Index.value_counts(dropna=False)"
   ]
  },
  {
   "cell_type": "code",
   "execution_count": 40,
   "id": "7d469339",
   "metadata": {},
   "outputs": [
    {
     "data": {
      "text/plain": [
       "0"
      ]
     },
     "execution_count": 40,
     "metadata": {},
     "output_type": "execute_result"
    }
   ],
   "source": [
    "df.Confidence_Life_Style_Index.isnull().sum()"
   ]
  },
  {
   "cell_type": "markdown",
   "id": "2b5e8180",
   "metadata": {},
   "source": [
    "### Var1"
   ]
  },
  {
   "cell_type": "code",
   "execution_count": 41,
   "id": "ff8dc60c",
   "metadata": {},
   "outputs": [
    {
     "data": {
      "text/plain": [
       "dtype('float64')"
      ]
     },
     "execution_count": 41,
     "metadata": {},
     "output_type": "execute_result"
    }
   ],
   "source": [
    "df.Var1.dtype"
   ]
  },
  {
   "cell_type": "code",
   "execution_count": 42,
   "id": "a277cf03",
   "metadata": {},
   "outputs": [
    {
     "data": {
      "text/plain": [
       "53.948747550546095"
      ]
     },
     "execution_count": 42,
     "metadata": {},
     "output_type": "execute_result"
    }
   ],
   "source": [
    "df.Var1.isnull().sum()/len(df)*100"
   ]
  },
  {
   "cell_type": "code",
   "execution_count": 43,
   "id": "1b7f17db",
   "metadata": {},
   "outputs": [
    {
     "data": {
      "text/plain": [
       "count    60632.000000\n",
       "mean        64.202698\n",
       "std         21.820447\n",
       "min         30.000000\n",
       "25%         46.000000\n",
       "50%         61.000000\n",
       "75%         80.000000\n",
       "max        210.000000\n",
       "Name: Var1, dtype: float64"
      ]
     },
     "execution_count": 43,
     "metadata": {},
     "output_type": "execute_result"
    }
   ],
   "source": [
    "df.Var1.describe()"
   ]
  },
  {
   "cell_type": "code",
   "execution_count": 44,
   "id": "ba5750f0",
   "metadata": {},
   "outputs": [
    {
     "data": {
      "image/png": "[encoded data removed]",
      "text/plain": [
       "<Figure size 640x480 with 1 Axes>"
      ]
     },
     "metadata": {},
     "output_type": "display_data"
    }
   ],
   "source": [
    "ax = sns.boxplot(x = df.Var1)"
   ]
  },
  {
   "cell_type": "code",
   "execution_count": 45,
   "id": "4852861e",
   "metadata": {},
   "outputs": [
    {
     "data": {
      "text/plain": [
       "count    60632.000000\n",
       "mean        64.202698\n",
       "std         21.820447\n",
       "min         30.000000\n",
       "5%          35.000000\n",
       "25%         46.000000\n",
       "50%         61.000000\n",
       "75%         80.000000\n",
       "90%         98.000000\n",
       "95%        104.000000\n",
       "99%        110.000000\n",
       "max        210.000000\n",
       "Name: Var1, dtype: float64"
      ]
     },
     "execution_count": 45,
     "metadata": {},
     "output_type": "execute_result"
    }
   ],
   "source": [
    "df.Var1.describe(percentiles=[0.05, .25, .50, .75, .90, .95, .99])"
   ]
  },
  {
   "cell_type": "code",
   "execution_count": 46,
   "id": "cb43be76",
   "metadata": {},
   "outputs": [
    {
     "data": {
      "text/plain": [
       "131.0"
      ]
     },
     "execution_count": 46,
     "metadata": {},
     "output_type": "execute_result"
    }
   ],
   "source": [
    "# finding the permissible value of outer fence \n",
    "uf = 80 + 1.5*(80-46)\n",
    "uf"
   ]
  },
  {
   "cell_type": "code",
   "execution_count": 47,
   "id": "e35406b2",
   "metadata": {},
   "outputs": [],
   "source": [
    "# \n",
    "# capping the values to 131 \n",
    "df = df[( df.Var1 <= 131.0 )]"
   ]
  },
  {
   "cell_type": "code",
   "execution_count": 48,
   "id": "8405f61b",
   "metadata": {},
   "outputs": [
    {
     "data": {
      "text/plain": [
       "count    60608.000000\n",
       "mean        64.165622\n",
       "std         21.741617\n",
       "min         30.000000\n",
       "25%         46.000000\n",
       "50%         61.000000\n",
       "75%         80.000000\n",
       "max        131.000000\n",
       "Name: Var1, dtype: float64"
      ]
     },
     "execution_count": 48,
     "metadata": {},
     "output_type": "execute_result"
    }
   ],
   "source": [
    "df.Var1.describe()"
   ]
  },
  {
   "cell_type": "code",
   "execution_count": 49,
   "id": "995410b9",
   "metadata": {},
   "outputs": [
    {
     "data": {
      "image/png": "[encoded data removed]",
      "text/plain": [
       "<Figure size 640x480 with 1 Axes>"
      ]
     },
     "metadata": {},
     "output_type": "display_data"
    }
   ],
   "source": [
    "# sanity check for outliers \n",
    "ax = sns.boxplot(x = df.Var1)"
   ]
  },
  {
   "cell_type": "markdown",
   "id": "eb168c4c",
   "metadata": {},
   "source": [
    "#### The outliers seems to be managed"
   ]
  },
  {
   "cell_type": "code",
   "execution_count": 50,
   "id": "7afb5597",
   "metadata": {},
   "outputs": [
    {
     "data": {
      "text/plain": [
       "0.0"
      ]
     },
     "execution_count": 50,
     "metadata": {},
     "output_type": "execute_result"
    }
   ],
   "source": [
    "# checking %age null values of Var1\n",
    "df.Var1.isnull().sum()/len(df)*100"
   ]
  },
  {
   "cell_type": "code",
   "execution_count": 51,
   "id": "0b9ab26e",
   "metadata": {},
   "outputs": [
    {
     "data": {
      "text/plain": [
       "0"
      ]
     },
     "execution_count": 51,
     "metadata": {},
     "output_type": "execute_result"
    }
   ],
   "source": [
    "# checking null values again\n",
    "df.Var1.isnull().sum()"
   ]
  },
  {
   "cell_type": "code",
   "execution_count": 52,
   "id": "3ce21841",
   "metadata": {},
   "outputs": [
    {
     "data": {
      "text/plain": [
       "Trip_ID                        0\n",
       "Trip_Distance                  0\n",
       "Type_of_Cab                    0\n",
       "Customer_Since_Months          0\n",
       "Life_Style_Index               0\n",
       "Confidence_Life_Style_Index    0\n",
       "Destination_Type               0\n",
       "Customer_Rating                0\n",
       "Cancellation_Last_1Month       0\n",
       "Var1                           0\n",
       "Var2                           0\n",
       "Var3                           0\n",
       "Gender                         0\n",
       "Surge_Pricing_Type             0\n",
       "dtype: int64"
      ]
     },
     "execution_count": 52,
     "metadata": {},
     "output_type": "execute_result"
    }
   ],
   "source": [
    "# Checking the null values in data \n",
    "df.isnull().sum()"
   ]
  },
  {
   "cell_type": "markdown",
   "id": "0372e550",
   "metadata": {},
   "source": [
    "### All feature have 0 null values"
   ]
  },
  {
   "cell_type": "code",
   "execution_count": 53,
   "id": "efbac19e",
   "metadata": {},
   "outputs": [
    {
     "data": {
      "text/html": [
       "<div>\n",
       "<style scoped>\n",
       "    .dataframe tbody tr th:only-of-type {\n",
       "        vertical-align: middle;\n",
       "    }\n",
       "\n",
       "    .dataframe tbody tr th {\n",
       "        vertical-align: top;\n",
       "    }\n",
       "\n",
       "    .dataframe thead th {\n",
       "        text-align: right;\n",
       "    }\n",
       "</style>\n",
       "<table border=\"1\" class=\"dataframe\">\n",
       "  <thead>\n",
       "    <tr style=\"text-align: right;\">\n",
       "      <th></th>\n",
       "      <th>Trip_Distance</th>\n",
       "      <th>Type_of_Cab</th>\n",
       "      <th>Customer_Since_Months</th>\n",
       "      <th>Life_Style_Index</th>\n",
       "      <th>Confidence_Life_Style_Index</th>\n",
       "      <th>Destination_Type</th>\n",
       "      <th>Customer_Rating</th>\n",
       "      <th>Cancellation_Last_1Month</th>\n",
       "      <th>Var1</th>\n",
       "      <th>Var2</th>\n",
       "      <th>Var3</th>\n",
       "      <th>Gender</th>\n",
       "      <th>Surge_Pricing_Type</th>\n",
       "    </tr>\n",
       "  </thead>\n",
       "  <tbody>\n",
       "    <tr>\n",
       "      <th>0</th>\n",
       "      <td>6.77</td>\n",
       "      <td>B</td>\n",
       "      <td>1.0</td>\n",
       "      <td>2.42769</td>\n",
       "      <td>A</td>\n",
       "      <td>A</td>\n",
       "      <td>3.9050</td>\n",
       "      <td>0</td>\n",
       "      <td>40.0</td>\n",
       "      <td>46</td>\n",
       "      <td>60</td>\n",
       "      <td>Female</td>\n",
       "      <td>2</td>\n",
       "    </tr>\n",
       "    <tr>\n",
       "      <th>1</th>\n",
       "      <td>29.47</td>\n",
       "      <td>B</td>\n",
       "      <td>10.0</td>\n",
       "      <td>2.78245</td>\n",
       "      <td>B</td>\n",
       "      <td>A</td>\n",
       "      <td>3.4500</td>\n",
       "      <td>0</td>\n",
       "      <td>38.0</td>\n",
       "      <td>56</td>\n",
       "      <td>78</td>\n",
       "      <td>Male</td>\n",
       "      <td>2</td>\n",
       "    </tr>\n",
       "    <tr>\n",
       "      <th>4</th>\n",
       "      <td>54.95</td>\n",
       "      <td>C</td>\n",
       "      <td>10.0</td>\n",
       "      <td>3.03453</td>\n",
       "      <td>B</td>\n",
       "      <td>A</td>\n",
       "      <td>3.4025</td>\n",
       "      <td>4</td>\n",
       "      <td>51.0</td>\n",
       "      <td>49</td>\n",
       "      <td>102</td>\n",
       "      <td>Male</td>\n",
       "      <td>2</td>\n",
       "    </tr>\n",
       "    <tr>\n",
       "      <th>5</th>\n",
       "      <td>19.06</td>\n",
       "      <td>E</td>\n",
       "      <td>10.0</td>\n",
       "      <td>4.00000</td>\n",
       "      <td>B</td>\n",
       "      <td>A</td>\n",
       "      <td>2.5975</td>\n",
       "      <td>1</td>\n",
       "      <td>72.0</td>\n",
       "      <td>63</td>\n",
       "      <td>91</td>\n",
       "      <td>Male</td>\n",
       "      <td>3</td>\n",
       "    </tr>\n",
       "    <tr>\n",
       "      <th>6</th>\n",
       "      <td>29.72</td>\n",
       "      <td>E</td>\n",
       "      <td>10.0</td>\n",
       "      <td>2.83958</td>\n",
       "      <td>C</td>\n",
       "      <td>B</td>\n",
       "      <td>2.9750</td>\n",
       "      <td>1</td>\n",
       "      <td>83.0</td>\n",
       "      <td>50</td>\n",
       "      <td>75</td>\n",
       "      <td>Male</td>\n",
       "      <td>2</td>\n",
       "    </tr>\n",
       "  </tbody>\n",
       "</table>\n",
       "</div>"
      ],
      "text/plain": [
       "   Trip_Distance Type_of_Cab  Customer_Since_Months  Life_Style_Index  \\\n",
       "0           6.77           B                    1.0           2.42769   \n",
       "1          29.47           B                   10.0           2.78245   \n",
       "4          54.95           C                   10.0           3.03453   \n",
       "5          19.06           E                   10.0           4.00000   \n",
       "6          29.72           E                   10.0           2.83958   \n",
       "\n",
       "  Confidence_Life_Style_Index Destination_Type  Customer_Rating  \\\n",
       "0                           A                A           3.9050   \n",
       "1                           B                A           3.4500   \n",
       "4                           B                A           3.4025   \n",
       "5                           B                A           2.5975   \n",
       "6                           C                B           2.9750   \n",
       "\n",
       "   Cancellation_Last_1Month  Var1  Var2  Var3  Gender  Surge_Pricing_Type  \n",
       "0                         0  40.0    46    60  Female                   2  \n",
       "1                         0  38.0    56    78    Male                   2  \n",
       "4                         4  51.0    49   102    Male                   2  \n",
       "5                         1  72.0    63    91    Male                   3  \n",
       "6                         1  83.0    50    75    Male                   2  "
      ]
     },
     "execution_count": 53,
     "metadata": {},
     "output_type": "execute_result"
    }
   ],
   "source": [
    "# dropping the Id column\n",
    "\n",
    "df = df.drop('Trip_ID', axis=1)\n",
    "df.head()"
   ]
  },
  {
   "cell_type": "code",
   "execution_count": 54,
   "id": "6819e14d",
   "metadata": {},
   "outputs": [],
   "source": [
    "# creating categorical and numerical col\n",
    "\n",
    "cat_col = []\n",
    "num_col = []\n",
    "\n",
    "for i in df.columns:\n",
    "    if (df[i].dtypes == 'object'):\n",
    "        cat_col.append(i)\n",
    "    else:\n",
    "        num_col.append(i)"
   ]
  },
  {
   "cell_type": "code",
   "execution_count": 55,
   "id": "4c4b566a",
   "metadata": {},
   "outputs": [
    {
     "data": {
      "text/plain": [
       "['Type_of_Cab', 'Confidence_Life_Style_Index', 'Destination_Type', 'Gender']"
      ]
     },
     "execution_count": 55,
     "metadata": {},
     "output_type": "execute_result"
    }
   ],
   "source": [
    "cat_col"
   ]
  },
  {
   "cell_type": "code",
   "execution_count": 56,
   "id": "f182ba07",
   "metadata": {},
   "outputs": [
    {
     "data": {
      "text/plain": [
       "['Trip_Distance',\n",
       " 'Customer_Since_Months',\n",
       " 'Life_Style_Index',\n",
       " 'Customer_Rating',\n",
       " 'Cancellation_Last_1Month',\n",
       " 'Var1',\n",
       " 'Var2',\n",
       " 'Var3',\n",
       " 'Surge_Pricing_Type']"
      ]
     },
     "execution_count": 56,
     "metadata": {},
     "output_type": "execute_result"
    }
   ],
   "source": [
    "num_col"
   ]
  },
  {
   "cell_type": "markdown",
   "id": "61cbbf98",
   "metadata": {},
   "source": [
    "## Data Visualization"
   ]
  },
  {
   "cell_type": "code",
   "execution_count": 57,
   "id": "d959b2fd",
   "metadata": {},
   "outputs": [
    {
     "ename": "ValueError",
     "evalue": "could not convert string to float: 'Female'",
     "output_type": "error",
     "traceback": [
      "\u001b[1;31m---------------------------------------------------------------------------\u001b[0m",
      "\u001b[1;31mValueError\u001b[0m                                Traceback (most recent call last)",
      "Cell \u001b[1;32mIn[57], line 6\u001b[0m\n\u001b[0;32m      3\u001b[0m plt\u001b[38;5;241m.\u001b[39mfigure(figsize\u001b[38;5;241m=\u001b[39m(\u001b[38;5;241m10\u001b[39m, \u001b[38;5;241m10\u001b[39m))\n\u001b[0;32m      5\u001b[0m plt\u001b[38;5;241m.\u001b[39msubplot(\u001b[38;5;241m2\u001b[39m,\u001b[38;5;241m2\u001b[39m,\u001b[38;5;241m1\u001b[39m)\n\u001b[1;32m----> 6\u001b[0m ax \u001b[38;5;241m=\u001b[39m sns\u001b[38;5;241m.\u001b[39mcountplot(df\u001b[38;5;241m.\u001b[39mGender)\n\u001b[0;32m      7\u001b[0m plt\u001b[38;5;241m.\u001b[39mgrid(axis\u001b[38;5;241m=\u001b[39m\u001b[38;5;124m'\u001b[39m\u001b[38;5;124my\u001b[39m\u001b[38;5;124m'\u001b[39m, ls\u001b[38;5;241m=\u001b[39m\u001b[38;5;124m'\u001b[39m\u001b[38;5;124m--\u001b[39m\u001b[38;5;124m'\u001b[39m)\n\u001b[0;32m      8\u001b[0m ax\u001b[38;5;241m.\u001b[39mbar_label(ax\u001b[38;5;241m.\u001b[39mcontainers[\u001b[38;5;241m0\u001b[39m], label_type\u001b[38;5;241m=\u001b[39m\u001b[38;5;124m'\u001b[39m\u001b[38;5;124medge\u001b[39m\u001b[38;5;124m'\u001b[39m)\n",
      "File \u001b[1;32m~\\anaconda3\\Lib\\site-packages\\seaborn\\categorical.py:2943\u001b[0m, in \u001b[0;36mcountplot\u001b[1;34m(data, x, y, hue, order, hue_order, orient, color, palette, saturation, width, dodge, ax, **kwargs)\u001b[0m\n\u001b[0;32m   2940\u001b[0m \u001b[38;5;28;01melif\u001b[39;00m x \u001b[38;5;129;01mis\u001b[39;00m \u001b[38;5;129;01mnot\u001b[39;00m \u001b[38;5;28;01mNone\u001b[39;00m \u001b[38;5;129;01mand\u001b[39;00m y \u001b[38;5;129;01mis\u001b[39;00m \u001b[38;5;129;01mnot\u001b[39;00m \u001b[38;5;28;01mNone\u001b[39;00m:\n\u001b[0;32m   2941\u001b[0m     \u001b[38;5;28;01mraise\u001b[39;00m \u001b[38;5;167;01mValueError\u001b[39;00m(\u001b[38;5;124m\"\u001b[39m\u001b[38;5;124mCannot pass values for both `x` and `y`\u001b[39m\u001b[38;5;124m\"\u001b[39m)\n\u001b[1;32m-> 2943\u001b[0m plotter \u001b[38;5;241m=\u001b[39m _CountPlotter(\n\u001b[0;32m   2944\u001b[0m     x, y, hue, data, order, hue_order,\n\u001b[0;32m   2945\u001b[0m     estimator, errorbar, n_boot, units, seed,\n\u001b[0;32m   2946\u001b[0m     orient, color, palette, saturation,\n\u001b[0;32m   2947\u001b[0m     width, errcolor, errwidth, capsize, dodge\n\u001b[0;32m   2948\u001b[0m )\n\u001b[0;32m   2950\u001b[0m plotter\u001b[38;5;241m.\u001b[39mvalue_label \u001b[38;5;241m=\u001b[39m \u001b[38;5;124m\"\u001b[39m\u001b[38;5;124mcount\u001b[39m\u001b[38;5;124m\"\u001b[39m\n\u001b[0;32m   2952\u001b[0m \u001b[38;5;28;01mif\u001b[39;00m ax \u001b[38;5;129;01mis\u001b[39;00m \u001b[38;5;28;01mNone\u001b[39;00m:\n",
      "File \u001b[1;32m~\\anaconda3\\Lib\\site-packages\\seaborn\\categorical.py:1530\u001b[0m, in \u001b[0;36m_BarPlotter.__init__\u001b[1;34m(self, x, y, hue, data, order, hue_order, estimator, errorbar, n_boot, units, seed, orient, color, palette, saturation, width, errcolor, errwidth, capsize, dodge)\u001b[0m\n\u001b[0;32m   1525\u001b[0m \u001b[38;5;28;01mdef\u001b[39;00m \u001b[38;5;21m__init__\u001b[39m(\u001b[38;5;28mself\u001b[39m, x, y, hue, data, order, hue_order,\n\u001b[0;32m   1526\u001b[0m              estimator, errorbar, n_boot, units, seed,\n\u001b[0;32m   1527\u001b[0m              orient, color, palette, saturation, width,\n\u001b[0;32m   1528\u001b[0m              errcolor, errwidth, capsize, dodge):\n\u001b[0;32m   1529\u001b[0m \u001b[38;5;250m    \u001b[39m\u001b[38;5;124;03m\"\"\"Initialize the plotter.\"\"\"\u001b[39;00m\n\u001b[1;32m-> 1530\u001b[0m     \u001b[38;5;28mself\u001b[39m\u001b[38;5;241m.\u001b[39mestablish_variables(x, y, hue, data, orient,\n\u001b[0;32m   1531\u001b[0m                              order, hue_order, units)\n\u001b[0;32m   1532\u001b[0m     \u001b[38;5;28mself\u001b[39m\u001b[38;5;241m.\u001b[39mestablish_colors(color, palette, saturation)\n\u001b[0;32m   1533\u001b[0m     \u001b[38;5;28mself\u001b[39m\u001b[38;5;241m.\u001b[39mestimate_statistic(estimator, errorbar, n_boot, seed)\n",
      "File \u001b[1;32m~\\anaconda3\\Lib\\site-packages\\seaborn\\categorical.py:516\u001b[0m, in \u001b[0;36m_CategoricalPlotter.establish_variables\u001b[1;34m(self, x, y, hue, data, orient, order, hue_order, units)\u001b[0m\n\u001b[0;32m    513\u001b[0m     plot_data \u001b[38;5;241m=\u001b[39m data\n\u001b[0;32m    515\u001b[0m \u001b[38;5;66;03m# Convert to a list of arrays, the common representation\u001b[39;00m\n\u001b[1;32m--> 516\u001b[0m plot_data \u001b[38;5;241m=\u001b[39m [np\u001b[38;5;241m.\u001b[39masarray(d, \u001b[38;5;28mfloat\u001b[39m) \u001b[38;5;28;01mfor\u001b[39;00m d \u001b[38;5;129;01min\u001b[39;00m plot_data]\n\u001b[0;32m    518\u001b[0m \u001b[38;5;66;03m# The group names will just be numeric indices\u001b[39;00m\n\u001b[0;32m    519\u001b[0m group_names \u001b[38;5;241m=\u001b[39m \u001b[38;5;28mlist\u001b[39m(\u001b[38;5;28mrange\u001b[39m(\u001b[38;5;28mlen\u001b[39m(plot_data)))\n",
      "File \u001b[1;32m~\\anaconda3\\Lib\\site-packages\\seaborn\\categorical.py:516\u001b[0m, in \u001b[0;36m<listcomp>\u001b[1;34m(.0)\u001b[0m\n\u001b[0;32m    513\u001b[0m     plot_data \u001b[38;5;241m=\u001b[39m data\n\u001b[0;32m    515\u001b[0m \u001b[38;5;66;03m# Convert to a list of arrays, the common representation\u001b[39;00m\n\u001b[1;32m--> 516\u001b[0m plot_data \u001b[38;5;241m=\u001b[39m [np\u001b[38;5;241m.\u001b[39masarray(d, \u001b[38;5;28mfloat\u001b[39m) \u001b[38;5;28;01mfor\u001b[39;00m d \u001b[38;5;129;01min\u001b[39;00m plot_data]\n\u001b[0;32m    518\u001b[0m \u001b[38;5;66;03m# The group names will just be numeric indices\u001b[39;00m\n\u001b[0;32m    519\u001b[0m group_names \u001b[38;5;241m=\u001b[39m \u001b[38;5;28mlist\u001b[39m(\u001b[38;5;28mrange\u001b[39m(\u001b[38;5;28mlen\u001b[39m(plot_data)))\n",
      "File \u001b[1;32m~\\anaconda3\\Lib\\site-packages\\pandas\\core\\series.py:917\u001b[0m, in \u001b[0;36mSeries.__array__\u001b[1;34m(self, dtype)\u001b[0m\n\u001b[0;32m    870\u001b[0m \u001b[38;5;250m\u001b[39m\u001b[38;5;124;03m\"\"\"\u001b[39;00m\n\u001b[0;32m    871\u001b[0m \u001b[38;5;124;03mReturn the values as a NumPy array.\u001b[39;00m\n\u001b[0;32m    872\u001b[0m \n\u001b[1;32m   (...)\u001b[0m\n\u001b[0;32m    914\u001b[0m \u001b[38;5;124;03m      dtype='datetime64[ns]')\u001b[39;00m\n\u001b[0;32m    915\u001b[0m \u001b[38;5;124;03m\"\"\"\u001b[39;00m\n\u001b[0;32m    916\u001b[0m values \u001b[38;5;241m=\u001b[39m \u001b[38;5;28mself\u001b[39m\u001b[38;5;241m.\u001b[39m_values\n\u001b[1;32m--> 917\u001b[0m arr \u001b[38;5;241m=\u001b[39m np\u001b[38;5;241m.\u001b[39masarray(values, dtype\u001b[38;5;241m=\u001b[39mdtype)\n\u001b[0;32m    918\u001b[0m \u001b[38;5;28;01mif\u001b[39;00m using_copy_on_write() \u001b[38;5;129;01mand\u001b[39;00m astype_is_view(values\u001b[38;5;241m.\u001b[39mdtype, arr\u001b[38;5;241m.\u001b[39mdtype):\n\u001b[0;32m    919\u001b[0m     arr \u001b[38;5;241m=\u001b[39m arr\u001b[38;5;241m.\u001b[39mview()\n",
      "\u001b[1;31mValueError\u001b[0m: could not convert string to float: 'Female'"
     ]
    },
    {
     "data": {
      "image/png": "[encoded data removed]",
      "text/plain": [
       "<Figure size 1000x1000 with 1 Axes>"
      ]
     },
     "metadata": {},
     "output_type": "display_data"
    }
   ],
   "source": [
    "# plotting for different categorical features \n",
    "\n",
    "plt.figure(figsize=(10, 10))\n",
    "\n",
    "plt.subplot(2,2,1)\n",
    "ax = sns.countplot(df.Gender)\n",
    "plt.grid(axis='y', ls='--')\n",
    "ax.bar_label(ax.containers[0], label_type='edge')\n",
    "\n",
    "plt.subplot(2,2,2)\n",
    "ax = sns.countplot(df.Type_of_Cab)\n",
    "plt.grid(axis='y', ls='--')\n",
    "ax.bar_label(ax.containers[0], label_type='edge')\n",
    "\n",
    "plt.subplot(2,2,3)\n",
    "ax = sns.countplot(df.Destination_Type)\n",
    "plt.grid(axis='y', ls='--')\n",
    "ax.bar_label(ax.containers[0], label_type='edge')\n",
    "\n",
    "plt.subplot(2,2,4)\n",
    "ax = sns.countplot(df.Confidence_Life_Style_Index)\n",
    "plt.grid(axis='y', ls='--')\n",
    "ax.bar_label(ax.containers[0], label_type='edge')\n",
    "\n",
    "plt.subplots_adjust(left=0.2,\n",
    "                    bottom=0.2, \n",
    "                    right=1, \n",
    "                    top=0.9, \n",
    "                    wspace=0.5, \n",
    "                    hspace=0.3)\n",
    "plt.show()"
   ]
  },
  {
   "cell_type": "code",
   "execution_count": null,
   "id": "5c5b5870",
   "metadata": {},
   "outputs": [],
   "source": [
    "# plotting for numerical features\n",
    "\n",
    "plt.figure(figsize=(20, 20))\n",
    "\n",
    "plt.subplot(3,3,1)\n",
    "ax = sns.distplot(df.Trip_Distance)\n",
    "# ax.bar_label(ax.containers[0], label_type='edge')\n",
    "\n",
    "plt.subplot(3,3,2)\n",
    "ax = sns.distplot(df.Customer_Since_Months)\n",
    "# ax.bar_label(ax.containers[0], label_type='edge')\n",
    "\n",
    "plt.subplot(3,3,3)\n",
    "ax = sns.distplot(df.Customer_Rating)\n",
    "# ax.bar_label(ax.containers[0], label_type='edge')\n",
    "\n",
    "plt.subplot(3,3,4)\n",
    "ax = sns.distplot(df.Life_Style_Index)\n",
    "# ax.bar_label(ax.containers[0], label_type='edge')\n",
    "\n",
    "plt.subplot(3,3,5)\n",
    "ax = sns.distplot(df.Cancellation_Last_1Month)\n",
    "# ax.bar_label(ax.containers[0], label_type='edge')\n",
    "\n",
    "plt.subplot(3,3,6)\n",
    "ax = sns.distplot(df.Surge_Pricing_Type)\n",
    "# ax.bar_label(ax.containers[0], label_type='edge')\n",
    "\n",
    "plt.show()"
   ]
  },
  {
   "cell_type": "code",
   "execution_count": null,
   "id": "7f5f3b96",
   "metadata": {},
   "outputs": [],
   "source": [
    "# plotting Cancellation_Last_1Month with Type of cab\n",
    "ax = sns.countplot(df.Cancellation_Last_1Month, hue= df.Type_of_Cab)\n"
   ]
  },
  {
   "cell_type": "code",
   "execution_count": null,
   "id": "b7a13e80",
   "metadata": {},
   "outputs": [],
   "source": [
    "# plotting Cancellation_Last_1Month with Type of cab\n",
    "ax = sns.boxplot(y = df.Cancellation_Last_1Month, x = df.Type_of_Cab )"
   ]
  },
  {
   "cell_type": "code",
   "execution_count": null,
   "id": "6f5d9afd",
   "metadata": {},
   "outputs": [],
   "source": [
    "# plotting customer rating with type of cab\n",
    "ax = sns.boxplot(y = df.Customer_Rating, x = df.Type_of_Cab )"
   ]
  },
  {
   "cell_type": "code",
   "execution_count": null,
   "id": "4f043c88",
   "metadata": {},
   "outputs": [],
   "source": [
    "# plotting Customer_Since_Months with Type of cab\n",
    "\n",
    "ax = sns.boxplot(y = df.Customer_Since_Months, x = df.Type_of_Cab)"
   ]
  },
  {
   "cell_type": "code",
   "execution_count": null,
   "id": "232195b9",
   "metadata": {},
   "outputs": [],
   "source": [
    "ax = sns.countplot(df.Customer_Since_Months, hue = df.Type_of_Cab)\n",
    "ax.bar_label(ax.containers[0], label_type='edge')\n",
    "plt.show()"
   ]
  },
  {
   "cell_type": "code",
   "execution_count": null,
   "id": "72d80ee4",
   "metadata": {},
   "outputs": [],
   "source": [
    "# plotting b/w Destination_Type and Type of cab\n",
    "ax = sns.countplot(df.Destination_Type, hue= df.Type_of_Cab)"
   ]
  },
  {
   "cell_type": "code",
   "execution_count": null,
   "id": "4f9ba723",
   "metadata": {},
   "outputs": [],
   "source": [
    "# ploting b/w Trip distance and type of cab\n",
    "\n",
    "ax = sns.boxplot(y = df.Trip_Distance, x = df.Type_of_Cab)"
   ]
  },
  {
   "cell_type": "code",
   "execution_count": null,
   "id": "b7c459cf",
   "metadata": {},
   "outputs": [],
   "source": [
    "# ploting b/w Confidence_Life_Style_Index and Type_of_Cab\n",
    "\n",
    "ax = sns.countplot(df.Confidence_Life_Style_Index, hue= df.Type_of_Cab)\n",
    "ax.bar_label(ax.containers[0], label_type='edge')\n",
    "plt.show()"
   ]
  },
  {
   "cell_type": "code",
   "execution_count": null,
   "id": "60505427",
   "metadata": {},
   "outputs": [],
   "source": [
    "# ploting b/w Surge Pricing type and Type of cab\n",
    "\n",
    "ax = sns.countplot(df.Surge_Pricing_Type, hue=df.Type_of_Cab)"
   ]
  },
  {
   "cell_type": "code",
   "execution_count": null,
   "id": "fe8031dd",
   "metadata": {},
   "outputs": [],
   "source": [
    "# checking cancellations_last_months w.r.t Gender\n",
    "ax = sns.countplot(df.Cancellation_Last_1Month, hue= df.Gender)"
   ]
  },
  {
   "cell_type": "code",
   "execution_count": null,
   "id": "c5169a77",
   "metadata": {},
   "outputs": [],
   "source": [
    "# plotting Gender and Type of cab preference\n",
    "\n",
    "ax = sns.countplot(df.Gender, hue= df.Type_of_Cab)"
   ]
  },
  {
   "cell_type": "code",
   "execution_count": null,
   "id": "e97c33b9",
   "metadata": {},
   "outputs": [],
   "source": [
    "# ploting Customer rating Vs Gender\n",
    "\n",
    "ax = sns.boxplot(y = df.Customer_Rating, x = df.Gender)"
   ]
  },
  {
   "cell_type": "code",
   "execution_count": null,
   "id": "e3c46e3c",
   "metadata": {},
   "outputs": [],
   "source": [
    "# plotting Customer_Since_Months Vs Cancellation_Last_1Month with Gender\n",
    "\n",
    "sns.scatterplot(df.Customer_Since_Months, df.Cancellation_Last_1Month, hue= df.Gender)"
   ]
  },
  {
   "cell_type": "code",
   "execution_count": null,
   "id": "7a88dfef",
   "metadata": {},
   "outputs": [],
   "source": [
    "# ploting Surge_Pricing_Type Vs Gender\n",
    "\n",
    "ax = sns.countplot(df.Surge_Pricing_Type, hue=df.Gender)"
   ]
  },
  {
   "cell_type": "code",
   "execution_count": null,
   "id": "a0eead6d",
   "metadata": {},
   "outputs": [],
   "source": [
    "# checking correlation b/w columns\n",
    "\n",
    "ax = sns.heatmap(df.corr(), annot=True)"
   ]
  },
  {
   "cell_type": "markdown",
   "id": "fb83bd2e",
   "metadata": {},
   "source": [
    "## Data Preprocessing"
   ]
  },
  {
   "cell_type": "code",
   "execution_count": null,
   "id": "1689fa41",
   "metadata": {},
   "outputs": [],
   "source": [
    "df.dtypes"
   ]
  },
  {
   "cell_type": "code",
   "execution_count": null,
   "id": "13eeef1e",
   "metadata": {},
   "outputs": [],
   "source": [
    "columns = ['Trip_Distance', 'Customer_Since_Months', 'Life_Style_Index',\n",
    "           'Customer_Rating', 'Cancellation_Last_1Month', 'Var1', 'Var2', 'Var3', 'Surge_Pricing_Type']"
   ]
  },
  {
   "cell_type": "code",
   "execution_count": null,
   "id": "394cf8cb",
   "metadata": {},
   "outputs": [],
   "source": []
  },
  {
   "cell_type": "code",
   "execution_count": null,
   "id": "fa6da363",
   "metadata": {
    "scrolled": true
   },
   "outputs": [],
   "source": [
    "# StandardScaler for continous columns\n",
    "\n",
    "from sklearn.preprocessing import StandardScaler\n",
    "scaler = StandardScaler()\n",
    "scaler.fit_transform(df[columns])\n",
    "\n",
    "df.head(7)"
   ]
  },
  {
   "cell_type": "code",
   "execution_count": null,
   "id": "8096a2ff",
   "metadata": {},
   "outputs": [],
   "source": [
    "from sklearn.cluster import KMeans"
   ]
  },
  {
   "cell_type": "code",
   "execution_count": null,
   "id": "e508e30c",
   "metadata": {},
   "outputs": [],
   "source": [
    "# LabelEncoding for Categorical columns\n",
    "\n",
    "from sklearn.preprocessing import LabelEncoder\n",
    "le = LabelEncoder()\n",
    "\n",
    "df[\"Type_of_Cab\"]=le.fit_transform(df[\"Type_of_Cab\"])\n",
    "df[\"Confidence_Life_Style_Index\"] =le.fit_transform(df[\"Confidence_Life_Style_Index\"])\n",
    "df[\"Destination_Type\"]=le.fit_transform(df[\"Destination_Type\"])\n",
    "df[\"Gender\"]=le.fit_transform(df[\"Gender\"])"
   ]
  },
  {
   "cell_type": "code",
   "execution_count": null,
   "id": "2fb4eb22",
   "metadata": {},
   "outputs": [],
   "source": [
    "df.head(7)"
   ]
  },
  {
   "cell_type": "code",
   "execution_count": null,
   "id": "5a2ffcb7",
   "metadata": {},
   "outputs": [],
   "source": [
    "wcss = []\n",
    "\n",
    "for i in range(1, 11):\n",
    "    kmeans = KMeans(n_clusters = i, init = 'k-means++', \n",
    "                    max_iter = 300, n_init = 10,random_state = 0)\n",
    "    kmeans.fit(df)\n",
    "    wcss.append(kmeans.inertia_)"
   ]
  },
  {
   "cell_type": "code",
   "execution_count": null,
   "id": "99a7af68",
   "metadata": {},
   "outputs": [],
   "source": [
    "plt.plot(range(1, 11), wcss)\n",
    "plt.title('Elbow Method Plot')\n",
    "plt.xlabel('Number of Clusters')\n",
    "plt.ylabel('Within-Cluster Sum of Square') # Within cluster sum of squares\n",
    "plt.tight_layout()\n",
    "plt.show()"
   ]
  },
  {
   "cell_type": "code",
   "execution_count": null,
   "id": "a690ffa0",
   "metadata": {},
   "outputs": [],
   "source": [
    "df.isnull().sum()"
   ]
  },
  {
   "cell_type": "code",
   "execution_count": null,
   "id": "83cc3922",
   "metadata": {},
   "outputs": [],
   "source": [
    "#Forming clusters on various parameters using Kmeans : [groups customers with similar behaviour in one cluster]\n",
    "\n",
    "c1 = df[['Trip_Distance', 'Life_Style_Index']]\n",
    "\n",
    "from sklearn.cluster import KMeans\n",
    "km = KMeans(n_clusters=3)\n",
    "model = km.fit(c1)\n",
    "model.labels_"
   ]
  },
  {
   "cell_type": "code",
   "execution_count": null,
   "id": "c649fd4c",
   "metadata": {},
   "outputs": [],
   "source": [
    "# making scatter plot b/w Trip_distance and Life_Style_Index\n",
    "plt.scatter(c1.Trip_Distance, c1.Life_Style_Index, c=model.labels_)\n",
    "plt.show()"
   ]
  },
  {
   "cell_type": "code",
   "execution_count": null,
   "id": "2aba714b",
   "metadata": {},
   "outputs": [],
   "source": [
    "c1 = df[[\"Trip_Distance\",\"Life_Style_Index\"]][0:50]"
   ]
  },
  {
   "cell_type": "code",
   "execution_count": null,
   "id": "5b9c0797",
   "metadata": {},
   "outputs": [],
   "source": [
    "from sklearn.cluster import AgglomerativeClustering\n",
    "agc = AgglomerativeClustering(n_clusters=4)\n",
    "model = agc.fit(c1)\n",
    "model.labels_"
   ]
  },
  {
   "cell_type": "code",
   "execution_count": null,
   "id": "c4330f0f",
   "metadata": {},
   "outputs": [],
   "source": [
    "from scipy.spatial import distance_matrix\n",
    "DM = pd.DataFrame(distance_matrix(c1.values, c1.values))\n",
    "from scipy.cluster.hierarchy import dendrogram, linkage\n",
    "dendrogram(linkage(DM))\n",
    "plt.show()"
   ]
  },
  {
   "cell_type": "code",
   "execution_count": null,
   "id": "a2dce7c2",
   "metadata": {},
   "outputs": [],
   "source": [
    "c2 = df[['Trip_Distance', 'Customer_Rating']]"
   ]
  },
  {
   "cell_type": "code",
   "execution_count": null,
   "id": "9f886c08",
   "metadata": {},
   "outputs": [],
   "source": [
    "from sklearn.cluster import KMeans\n",
    "km = KMeans(n_clusters=3)\n",
    "model = km.fit(c2)\n",
    "model.labels_"
   ]
  },
  {
   "cell_type": "code",
   "execution_count": null,
   "id": "af8660db",
   "metadata": {},
   "outputs": [],
   "source": [
    "# scatter plot b/w Trip distance and Customer rating\n",
    "plt.scatter(c2.Trip_Distance, c2.Customer_Rating, c=model.labels_)\n",
    "plt.show()"
   ]
  },
  {
   "cell_type": "code",
   "execution_count": null,
   "id": "97945c8c",
   "metadata": {},
   "outputs": [],
   "source": [
    "c2 = df[[\"Trip_Distance\",\"Customer_Rating\"]][0:50]"
   ]
  },
  {
   "cell_type": "code",
   "execution_count": null,
   "id": "147100b7",
   "metadata": {},
   "outputs": [],
   "source": [
    "from sklearn.cluster import AgglomerativeClustering\n",
    "agc = AgglomerativeClustering(n_clusters=4)\n",
    "model = agc.fit(c2)\n",
    "model.labels_"
   ]
  },
  {
   "cell_type": "code",
   "execution_count": null,
   "id": "5f983ab8",
   "metadata": {},
   "outputs": [],
   "source": [
    "from scipy.spatial import distance_matrix\n",
    "DM = pd.DataFrame(distance_matrix(c2.values, c2.values))\n",
    "from scipy.cluster.hierarchy import dendrogram,linkage\n",
    "dendrogram(linkage(DM))\n",
    "plt.show()"
   ]
  },
  {
   "cell_type": "code",
   "execution_count": null,
   "id": "31031b2c",
   "metadata": {},
   "outputs": [],
   "source": [
    "c3 = df[[\"Life_Style_Index\",\"Customer_Rating\"]]\n",
    "\n",
    "from sklearn.cluster import KMeans\n",
    "km = KMeans(n_clusters=4)\n",
    "model = km.fit(c3)\n",
    "model.labels_"
   ]
  },
  {
   "cell_type": "code",
   "execution_count": null,
   "id": "d359806f",
   "metadata": {},
   "outputs": [],
   "source": [
    "# scatter plot b/w Life_Style_Index and Customer rating\n",
    "plt.scatter(c3.Life_Style_Index, c3.Customer_Rating, c=model.labels_)\n",
    "plt.show()"
   ]
  },
  {
   "cell_type": "code",
   "execution_count": null,
   "id": "9ece51b7",
   "metadata": {},
   "outputs": [],
   "source": [
    "c3 = df[[\"Life_Style_Index\",\"Customer_Rating\"]][0:50]\n",
    "from sklearn.cluster import AgglomerativeClustering\n",
    "agc = AgglomerativeClustering(n_clusters=4)\n",
    "model = agc.fit(c3)\n",
    "model.labels_"
   ]
  },
  {
   "cell_type": "code",
   "execution_count": null,
   "id": "8baeb19f",
   "metadata": {},
   "outputs": [],
   "source": [
    "from scipy.spatial import distance_matrix\n",
    "DM = pd.DataFrame(distance_matrix(c3.values,c3.values))\n",
    "from scipy.cluster.hierarchy import dendrogram,linkage\n",
    "dendrogram(linkage(DM))\n",
    "plt.show()"
   ]
  },
  {
   "cell_type": "code",
   "execution_count": null,
   "id": "55816f4f",
   "metadata": {},
   "outputs": [],
   "source": []
  }
 ],
 "metadata": {
  "kernelspec": {
   "display_name": "Python 3 (ipykernel)",
   "language": "python",
   "name": "python3"
  },
  "language_info": {
   "codemirror_mode": {
    "name": "ipython",
    "version": 3
   },
   "file_extension": ".py",
   "mimetype": "text/x-python",
   "name": "python",
   "nbconvert_exporter": "python",
   "pygments_lexer": "ipython3",
   "version": "3.11.5"
  }
 },
 "nbformat": 4,
 "nbformat_minor": 5
}
